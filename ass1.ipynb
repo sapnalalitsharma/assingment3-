{
 "cells": [
  {
   "cell_type": "code",
   "execution_count": 7,
   "metadata": {},
   "outputs": [
    {
     "name": "stdout",
     "output_type": "stream",
     "text": [
      "{'name': 'Sachin', 'age': 22, 'salary': 60000, 'location': 'New Delhi'}\n"
     ]
    }
   ],
   "source": [
    "SkillSanta_Dict={\n",
    "    \"name\":\"Sachin\",\n",
    "    \"age\":22,\n",
    "    \"salary\":60000,\n",
    "    \"city\":\"New Delhi\"\n",
    "}\n",
    "\n",
    "new_key=\"location\"\n",
    "old_key=\"city\"\n",
    "\n",
    "if new_key!=old_key:  \n",
    "    SkillSanta_Dict[new_key] = SkillSanta_Dict[old_key]\n",
    "    del SkillSanta_Dict[old_key]\n",
    "\n",
    "print(SkillSanta_Dict)"
   ]
  },
  {
   "cell_type": "code",
   "execution_count": 8,
   "metadata": {},
   "outputs": [
    {
     "name": "stdout",
     "output_type": "stream",
     "text": [
      "{11: 2, 45: 2, 8: 1, 23: 1, 89: 1}\n"
     ]
    }
   ],
   "source": [
    "original_list = [11,45,8,11,23,45,89]\n",
    "response_dict = dict()\n",
    "\n",
    "for element in original_list:\n",
    "    if element in response_dict:\n",
    "        freq_counter=response_dict[element]\n",
    "        freq_counter=freq_counter+1\n",
    "        response_dict[element]= freq_counter\n",
    "    else:\n",
    "        response_dict[element]=1\n",
    "\n",
    "print(response_dict)"
   ]
  },
  {
   "cell_type": "code",
   "execution_count": 9,
   "metadata": {},
   "outputs": [
    {
     "name": "stdout",
     "output_type": "stream",
     "text": [
      "unique items [87, 45, 41, 65, 94, 99]\n",
      "tuple (87, 45, 41, 65, 94, 99)\n",
      "min:  41\n",
      "max:  99\n"
     ]
    }
   ],
   "source": [
    "sampleList=[87,45,41,65,94,41,99,94]\n",
    "\n",
    "unique_list = []\n",
    "for element in sampleList:\n",
    "    if element not in unique_list:\n",
    "        unique_list.append(element)\n",
    "\n",
    "print(\"unique items\",unique_list)\n",
    "print(\"tuple\",tuple(unique_list))\n",
    "\n",
    "unique_list.sort()\n",
    "print(\"min: \",unique_list[0])\n",
    "print(\"max: \",unique_list[-1])"
   ]
  },
  {
   "cell_type": "code",
   "execution_count": 18,
   "metadata": {},
   "outputs": [
    {
     "name": "stdout",
     "output_type": "stream",
     "text": [
      "Employee Eddy salary is:  50000\n",
      "Employee Eddy salary is:  50000\n"
     ]
    }
   ],
   "source": [
    "def showEmployee(name, salary=50000):\n",
    "    print(\"Employee\", name, \"salary is: \", salary)\n",
    "\n",
    "showEmployee(\"Eddy\", 50000)\n",
    "showEmployee(\"Eddy\")"
   ]
  },
  {
   "cell_type": "code",
   "execution_count": 19,
   "metadata": {},
   "outputs": [
    {
     "data": {
      "text/plain": [
       "15"
      ]
     },
     "execution_count": 19,
     "metadata": {},
     "output_type": "execute_result"
    }
   ],
   "source": [
    "def inner(a,b):\n",
    "    return a+b\n",
    "\n",
    "def outer(a,b):\n",
    "    return 5+inner(a,b)\n",
    "\n",
    "outer(3,7)"
   ]
  },
  {
   "cell_type": "code",
   "execution_count": 10,
   "metadata": {},
   "outputs": [
    {
     "name": "stdout",
     "output_type": "stream",
     "text": [
      "0\n",
      "1\n",
      "1\n",
      "2\n",
      "3\n",
      "5\n",
      "8\n",
      "13\n",
      "21\n",
      "34\n"
     ]
    }
   ],
   "source": [
    "def print_fibonacci(n):  \n",
    "    if n <= 1:  \n",
    "        return n  \n",
    "    else:  \n",
    "        return(print_fibonacci(n-1) + print_fibonacci(n-2))  \n",
    "\n",
    "def print_series(n):\n",
    "    for i in range(n):  \n",
    "        print(print_fibonacci(i)) \n",
    "        \n",
    "print_series(10)"
   ]
  },
  {
   "cell_type": "code",
   "execution_count": 21,
   "metadata": {},
   "outputs": [
    {
     "name": "stdout",
     "output_type": "stream",
     "text": [
      "Sheldon 15\n",
      "Sheldon 15\n"
     ]
    }
   ],
   "source": [
    "def displayStudent(name, age):\n",
    "    print(name, age)\n",
    "\n",
    "displayStudent(\"Sheldon\", 15)\n",
    "\n",
    "showStudent = displayStudent\n",
    "showStudent(\"Sheldon\", 15)"
   ]
  },
  {
   "cell_type": "code",
   "execution_count": 13,
   "metadata": {},
   "outputs": [
    {
     "name": "stdout",
     "output_type": "stream",
     "text": [
      "Enter your moblie number: 1234567890\n",
      "Your mobile number is VALID: +91-1234567890\n"
     ]
    }
   ],
   "source": [
    "def get_correct_number():\n",
    "    while True:\n",
    "        try:\n",
    "            mobile_number = int(input(\"Enter your moblie number: \"))\n",
    "            if len(str(mobile_number)) == 10:\n",
    "                print(\"Your mobile number is VALID: +91-\" + str(mobile_number))\n",
    "                break\n",
    "            print(\"Please Enter a valid mobile number!\")\n",
    "        except Exception as e:\n",
    "            print(e)\n",
    "        \n",
    "get_correct_number()"
   ]
  },
  {
   "cell_type": "code",
   "execution_count": 23,
   "metadata": {},
   "outputs": [
    {
     "name": "stdout",
     "output_type": "stream",
     "text": [
      "No. of Uppercase characters :  3\n",
      "No. of Lowercase Characters :  13\n"
     ]
    }
   ],
   "source": [
    "def count_str_letters_case(s):\n",
    "    upper_case = 0\n",
    "    lower_case = 0\n",
    "    for i in s:\n",
    "        if i.isupper():\n",
    "            upper_case+=1\n",
    "        elif i.islower():\n",
    "            lower_case+=1\n",
    "        else:\n",
    "            pass\n",
    "\n",
    "    print (\"No. of Uppercase characters : \", upper_case)\n",
    "    print (\"No. of Lowercase Characters : \", lower_case)\n",
    "\n",
    "count_str_letters_case('The quick Brown Fox')"
   ]
  },
  {
   "cell_type": "code",
   "execution_count": 24,
   "metadata": {},
   "outputs": [
    {
     "name": "stdout",
     "output_type": "stream",
     "text": [
      "25 is NOT a Perfect number \n"
     ]
    }
   ],
   "source": [
    "def check_number(n):\n",
    "    aliquot_sum = 0\n",
    "    for i in range(1, n):\n",
    "        if(n % i == 0):\n",
    "            aliquot_sum = aliquot_sum + i\n",
    "            \n",
    "    if (aliquot_sum == n and (aliquot_sum+n)/2 == n):\n",
    "        print(n, \"is a Perfect number \")\n",
    "    else:\n",
    "        print(n,\"is NOT a Perfect number \")\n",
    "        \n",
    "check_number(25)"
   ]
  }
 ],
 "metadata": {
  "kernelspec": {
   "display_name": "Python 3",
   "language": "python",
   "name": "python3"
  },
  "language_info": {
   "codemirror_mode": {
    "name": "ipython",
    "version": 3
   },
   "file_extension": ".py",
   "mimetype": "text/x-python",
   "name": "python",
   "nbconvert_exporter": "python",
   "pygments_lexer": "ipython3",
   "version": "3.8.3"
  }
 },
 "nbformat": 4,
 "nbformat_minor": 4
}
